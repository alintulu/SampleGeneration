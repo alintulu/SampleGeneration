{
 "cells": [
  {
   "cell_type": "code",
   "execution_count": 2,
   "metadata": {},
   "outputs": [
    {
     "name": "stdout",
     "output_type": "stream",
     "text": [
      "Welcome to JupyROOT 6.14/09\n"
     ]
    }
   ],
   "source": [
    "import ROOT\n",
    "ROOT.gROOT.SetBatch(True)\n",
    "ROOT.gSystem.Load(\"libFWCoreFWLite.so\");\n",
    "ROOT.gSystem.Load(\"libDataFormatsFWLite.so\");\n",
    "ROOT.AutoLibraryLoader.enable()"
   ]
  },
  {
   "cell_type": "code",
   "execution_count": 3,
   "metadata": {},
   "outputs": [],
   "source": [
    "from DataFormats.FWLite import Events, Handle"
   ]
  },
  {
   "cell_type": "code",
   "execution_count": 6,
   "metadata": {},
   "outputs": [],
   "source": [
    "events_ul = Events(\"root://cmsxrootd.fnal.gov//store/mc/RunIISummer20UL18MiniAODv2/ggZH_HToBB_ZToNuNu_M-125_TuneCP5_13TeV-powheg-pythia8/MINIAODSIM/106X_upgrade2018_realistic_v16_L1v1-v1/2430000/14F321EC-6A8A-DB49-8787-1FDCBB2F62D0.root\")\n",
    "events_run3 = ROOT.RDataFrame(\"Events\", \"/eos/cms/store/cmst3/user/adlintul/run3/gridpacks/hbb2022/samples/ggZH_HToBB_ZToNuNu_M-125_TuneCP5_13TeV-powheg-pythia8/NanoGEN/221227_124201/0000/hadd.root\")\n",
    "\n",
    "# UL\n",
    "hndl_genjet = Handle('vector<reco::GenJet>')\n",
    "events_ul.getByLabel('slimmedGenJets', hndl_genjet)\n",
    "genjets = hndl_genjet.product()\n",
    "genjet = genjets[0]\n",
    "\n",
    "pt_ul = ROOT.TH1D('genjet_pt', ';Leading GenJet: P_{T};events', 50, 0., 500.)\n",
    "for evt in events_ul:\n",
    "    evt.getByLabel('slimmedGenJets', hndl_genjet)\n",
    "    genjets = hndl_genjet.product()\n",
    "    if genjets.size():\n",
    "        pt_ul.Fill(genjets[0].pt())\n",
    "#pt_ul = pt_ul.Scale(1/pt_ul.Integral())\n",
    "\n",
    "# Run 3\n",
    "run3_1 = events_run3.Filter(\"nGenJet > 0\", \"Atleast one GenJet\")\n",
    "run3_2 = run3_1.Define(\"GenJet1pt\", \"GenJet_pt[0]\")\n",
    "pt_run3 = run3_2.Histo1D((\"pt_run3\", ';Leading GenJet: P_{T};events', 50, 0., 500.), \"GenJet1pt\")\n",
    "#pt_run3.Scale(1/pt_run3.Integral())\n",
    "pt_run3.Scale(4.3)\n",
    "\n",
    "c1 = ROOT.TCanvas( 'c1', 'Histogram Drawing Options', 200, 10, 700, 900 )\n",
    "pt_ul.Draw()\n",
    "pt_run3.Draw(\"SAME\")\n",
    "pt_run3.SetMarkerStyle(20)\n",
    "pt_run3.SetLineColor(ROOT.kBlack)\n",
    "\n",
    "c1.SaveAs(\"pt.png\")"
   ]
  },
  {
   "cell_type": "code",
   "execution_count": 7,
   "metadata": {},
   "outputs": [],
   "source": [
    "events_ul = Events(\"root://cmsxrootd.fnal.gov//store/mc/RunIISummer20UL18MiniAODv2/ggZH_HToBB_ZToNuNu_M-125_TuneCP5_13TeV-powheg-pythia8/MINIAODSIM/106X_upgrade2018_realistic_v16_L1v1-v1/2430000/14F321EC-6A8A-DB49-8787-1FDCBB2F62D0.root\")\n",
    "events_run3 = ROOT.RDataFrame(\"Events\", \"/eos/cms/store/cmst3/user/adlintul/run3/gridpacks/hbb2022/samples/ggZH_HToBB_ZToNuNu_M-125_TuneCP5_13TeV-powheg-pythia8/NanoGEN/221227_124201/0000/hadd.root\")\n",
    "\n",
    "# UL\n",
    "hndl_genjet = Handle('vector<reco::GenJet>')\n",
    "events_ul.getByLabel('slimmedGenJets', hndl_genjet)\n",
    "genjets = hndl_genjet.product()\n",
    "genjet = genjets[0]\n",
    "\n",
    "mass_ul = ROOT.TH1D('genjet_mass', ';Leading GenJet: Mass;events', 50, 0., 50.)\n",
    "for evt in events_ul:\n",
    "    evt.getByLabel('slimmedGenJets', hndl_genjet)\n",
    "    genjets = hndl_genjet.product()\n",
    "    if genjets.size():\n",
    "        mass_ul.Fill(genjets[0].mass())\n",
    "#pt_ul = pt_ul.Scale(1/pt_ul.Integral())\n",
    "\n",
    "# Run 3\n",
    "run3_1 = events_run3.Filter(\"nGenJet > 0\", \"Atleast one GenJet\")\n",
    "run3_2 = run3_1.Define(\"GenJet1mass\", \"GenJet_mass[0]\")\n",
    "mass_run3 = run3_2.Histo1D((\"mass_run3\", ';Leading GenJet: Mass;events', 50, 0., 50.), \"GenJet1mass\")\n",
    "#pt_run3.Scale(1/pt_run3.Integral())\n",
    "mass_run3.Scale(4.3)\n",
    "\n",
    "c1 = ROOT.TCanvas( 'c1', 'Histogram Drawing Options', 200, 10, 700, 900 )\n",
    "mass_ul.Draw()\n",
    "mass_run3.Draw(\"SAME\")\n",
    "mass_run3.SetMarkerStyle(20)\n",
    "mass_run3.SetLineColor(ROOT.kBlack)\n",
    "\n",
    "c1.SaveAs(\"mass.png\")"
   ]
  },
  {
   "cell_type": "code",
   "execution_count": null,
   "metadata": {},
   "outputs": [],
   "source": []
  }
 ],
 "metadata": {
  "kernelspec": {
   "display_name": "Python 2",
   "language": "python",
   "name": "python2"
  },
  "language_info": {
   "codemirror_mode": {
    "name": "ipython",
    "version": 2
   },
   "file_extension": ".py",
   "mimetype": "text/x-python",
   "name": "python",
   "nbconvert_exporter": "python",
   "pygments_lexer": "ipython2",
   "version": "2.7.14+"
  }
 },
 "nbformat": 4,
 "nbformat_minor": 2
}
